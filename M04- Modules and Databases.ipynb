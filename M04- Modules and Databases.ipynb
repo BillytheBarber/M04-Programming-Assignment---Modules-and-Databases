{
 "cells": [
  {
   "cell_type": "code",
   "execution_count": 10,
   "id": "a40b5668",
   "metadata": {},
   "outputs": [
    {
     "name": "stdout",
     "output_type": "stream",
     "text": [
      "Open 9-5 daily\n"
     ]
    }
   ],
   "source": [
    "#11.1 Create a file called zoo.py. In it, define a function called hours() that prints the string 'Open 9-5 daily'. Then, use the interactive interpreter to import the zoo module and call its hours() function.\n",
    "\n",
    "import zoo\n",
    "zoo.hours()"
   ]
  },
  {
   "cell_type": "code",
   "execution_count": 11,
   "id": "99a5e254",
   "metadata": {},
   "outputs": [
    {
     "name": "stdout",
     "output_type": "stream",
     "text": [
      "Open 9-5 daily\n"
     ]
    }
   ],
   "source": [
    "#11.2 In the interactive interpreter, import the zoo module as menagerie and call its hours() function.\n",
    "\n",
    "import zoo as menagerie\n",
    "menagerie.hours()"
   ]
  },
  {
   "cell_type": "code",
   "execution_count": 1,
   "id": "3493d2c1",
   "metadata": {},
   "outputs": [
    {
     "name": "stdout",
     "output_type": "stream",
     "text": [
      "[('Attonement',), ('Harry Potter',), ('White Teeth',)]\n"
     ]
    }
   ],
   "source": [
    "#16.4 \n",
    "\n",
    "import sqlite3\n",
    "db = sqlite3.connect(\"books.db\")\n",
    "#creating table\n",
    "cursor = db.cursor()\n",
    "cursor.execute(\"CREATE TABLE books (title TEXT, author TEXT, year INTEGER)\")\n",
    "#adding values\n",
    "cursor.execute(\"INSERT INTO books VALUES ('Harry Potter', 'J.K Rowling', 1999)\")\n",
    "cursor.execute(\"INSERT INTO books VALUES ('White Teeth', 'Zadie Smith', 2001)\")\n",
    "cursor.execute(\"INSERT INTO books VALUES ('Attonement', 'Ian McEvan', 2006)\")\n",
    "\n",
    "##16.8 Use the sqlalchemy module to connect to the sqlite3 database books.db that you just made in exercise 16.4. As in 16.6, select and print the title column from the book table in alphabetical order.\n",
    "title = cursor.execute(\"SELECT title FROM books\").fetchall()\n",
    "title.sort()\n",
    "print(title)"
   ]
  },
  {
   "cell_type": "code",
   "execution_count": null,
   "id": "685f4613",
   "metadata": {},
   "outputs": [],
   "source": []
  }
 ],
 "metadata": {
  "kernelspec": {
   "display_name": "Python 3 (ipykernel)",
   "language": "python",
   "name": "python3"
  },
  "language_info": {
   "codemirror_mode": {
    "name": "ipython",
    "version": 3
   },
   "file_extension": ".py",
   "mimetype": "text/x-python",
   "name": "python",
   "nbconvert_exporter": "python",
   "pygments_lexer": "ipython3",
   "version": "3.9.13"
  }
 },
 "nbformat": 4,
 "nbformat_minor": 5
}
